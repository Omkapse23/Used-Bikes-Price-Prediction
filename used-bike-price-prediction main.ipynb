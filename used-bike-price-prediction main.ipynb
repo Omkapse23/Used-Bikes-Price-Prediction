{
 "cells": [
  {
   "cell_type": "markdown",
   "id": "4d76e8d0",
   "metadata": {
    "papermill": {
     "duration": 0.039933,
     "end_time": "2022-04-19T12:00:02.098332",
     "exception": false,
     "start_time": "2022-04-19T12:00:02.058399",
     "status": "completed"
    },
    "tags": []
   },
   "source": [
    "# **USED BIKE PRICE PREDICTION USING LINEAR REGRESSION**"
   ]
  },
  {
   "cell_type": "markdown",
   "id": "91e5744d",
   "metadata": {
    "papermill": {
     "duration": 0.031452,
     "end_time": "2022-04-19T12:00:02.164202",
     "exception": false,
     "start_time": "2022-04-19T12:00:02.132750",
     "status": "completed"
    },
    "tags": []
   },
   "source": [
    "**This notebook implements the Multiple Linear Regression to predict the price of used bikes using diffrent features like type of onwership, Kilometer driven,Brand, Power etc.**"
   ]
  },
  {
   "cell_type": "markdown",
   "id": "86947540",
   "metadata": {
    "papermill": {
     "duration": 0.034653,
     "end_time": "2022-04-19T12:00:02.232592",
     "exception": false,
     "start_time": "2022-04-19T12:00:02.197939",
     "status": "completed"
    },
    "tags": []
   },
   "source": [
    "## **Importing dependancies**"
   ]
  },
  {
   "cell_type": "code",
   "execution_count": 5,
   "id": "d7d1dbf4",
   "metadata": {
    "execution": {
     "iopub.execute_input": "2022-04-19T12:00:02.316753Z",
     "iopub.status.busy": "2022-04-19T12:00:02.315955Z",
     "iopub.status.idle": "2022-04-19T12:00:04.010775Z",
     "shell.execute_reply": "2022-04-19T12:00:04.009747Z"
    },
    "papermill": {
     "duration": 1.745372,
     "end_time": "2022-04-19T12:00:04.014186",
     "exception": false,
     "start_time": "2022-04-19T12:00:02.268814",
     "status": "completed"
    },
    "tags": []
   },
   "outputs": [],
   "source": [
    "import pandas as pd\n",
    "import numpy as np\n",
    "import matplotlib.pyplot as plt\n",
    "import seaborn as sns\n",
    "from sklearn.model_selection import train_test_split\n",
    "from sklearn.linear_model import LinearRegression"
   ]
  },
  {
   "cell_type": "markdown",
   "id": "3d4ed77c",
   "metadata": {
    "papermill": {
     "duration": 0.03317,
     "end_time": "2022-04-19T12:00:04.078875",
     "exception": false,
     "start_time": "2022-04-19T12:00:04.045705",
     "status": "completed"
    },
    "tags": []
   },
   "source": [
    "## **Importing Data**"
   ]
  },
  {
   "cell_type": "code",
   "execution_count": 6,
   "id": "ff82e382",
   "metadata": {
    "execution": {
     "iopub.execute_input": "2022-04-19T12:00:04.144828Z",
     "iopub.status.busy": "2022-04-19T12:00:04.144191Z",
     "iopub.status.idle": "2022-04-19T12:00:04.265933Z",
     "shell.execute_reply": "2022-04-19T12:00:04.265067Z"
    },
    "papermill": {
     "duration": 0.158743,
     "end_time": "2022-04-19T12:00:04.269201",
     "exception": false,
     "start_time": "2022-04-19T12:00:04.110458",
     "status": "completed"
    },
    "tags": []
   },
   "outputs": [
    {
     "data": {
      "text/html": [
       "<div>\n",
       "<style scoped>\n",
       "    .dataframe tbody tr th:only-of-type {\n",
       "        vertical-align: middle;\n",
       "    }\n",
       "\n",
       "    .dataframe tbody tr th {\n",
       "        vertical-align: top;\n",
       "    }\n",
       "\n",
       "    .dataframe thead th {\n",
       "        text-align: right;\n",
       "    }\n",
       "</style>\n",
       "<table border=\"1\" class=\"dataframe\">\n",
       "  <thead>\n",
       "    <tr style=\"text-align: right;\">\n",
       "      <th></th>\n",
       "      <th>bike_name</th>\n",
       "      <th>price</th>\n",
       "      <th>city</th>\n",
       "      <th>kms_driven</th>\n",
       "      <th>owner</th>\n",
       "      <th>age</th>\n",
       "      <th>power</th>\n",
       "      <th>brand</th>\n",
       "    </tr>\n",
       "  </thead>\n",
       "  <tbody>\n",
       "    <tr>\n",
       "      <th>0</th>\n",
       "      <td>TVS Star City Plus Dual Tone 110cc</td>\n",
       "      <td>35000</td>\n",
       "      <td>Ahmedabad</td>\n",
       "      <td>17654</td>\n",
       "      <td>First Owner</td>\n",
       "      <td>3</td>\n",
       "      <td>110</td>\n",
       "      <td>TVS</td>\n",
       "    </tr>\n",
       "    <tr>\n",
       "      <th>1</th>\n",
       "      <td>Royal Enfield Classic 350cc</td>\n",
       "      <td>119900</td>\n",
       "      <td>Delhi</td>\n",
       "      <td>11000</td>\n",
       "      <td>First Owner</td>\n",
       "      <td>4</td>\n",
       "      <td>350</td>\n",
       "      <td>Royal Enfield</td>\n",
       "    </tr>\n",
       "    <tr>\n",
       "      <th>2</th>\n",
       "      <td>Triumph Daytona 675R</td>\n",
       "      <td>600000</td>\n",
       "      <td>Delhi</td>\n",
       "      <td>110</td>\n",
       "      <td>First Owner</td>\n",
       "      <td>8</td>\n",
       "      <td>675</td>\n",
       "      <td>Triumph</td>\n",
       "    </tr>\n",
       "    <tr>\n",
       "      <th>3</th>\n",
       "      <td>TVS Apache RTR 180cc</td>\n",
       "      <td>65000</td>\n",
       "      <td>Bangalore</td>\n",
       "      <td>16329</td>\n",
       "      <td>First Owner</td>\n",
       "      <td>4</td>\n",
       "      <td>180</td>\n",
       "      <td>TVS</td>\n",
       "    </tr>\n",
       "    <tr>\n",
       "      <th>4</th>\n",
       "      <td>Yamaha FZ S V 2.0 150cc-Ltd. Edition</td>\n",
       "      <td>80000</td>\n",
       "      <td>Bangalore</td>\n",
       "      <td>10000</td>\n",
       "      <td>First Owner</td>\n",
       "      <td>3</td>\n",
       "      <td>150</td>\n",
       "      <td>Yamaha</td>\n",
       "    </tr>\n",
       "  </tbody>\n",
       "</table>\n",
       "</div>"
      ],
      "text/plain": [
       "                              bike_name   price       city  kms_driven  \\\n",
       "0    TVS Star City Plus Dual Tone 110cc   35000  Ahmedabad       17654   \n",
       "1           Royal Enfield Classic 350cc  119900      Delhi       11000   \n",
       "2                  Triumph Daytona 675R  600000      Delhi         110   \n",
       "3                  TVS Apache RTR 180cc   65000  Bangalore       16329   \n",
       "4  Yamaha FZ S V 2.0 150cc-Ltd. Edition   80000  Bangalore       10000   \n",
       "\n",
       "         owner  age  power          brand  \n",
       "0  First Owner    3    110            TVS  \n",
       "1  First Owner    4    350  Royal Enfield  \n",
       "2  First Owner    8    675        Triumph  \n",
       "3  First Owner    4    180            TVS  \n",
       "4  First Owner    3    150         Yamaha  "
      ]
     },
     "execution_count": 6,
     "metadata": {},
     "output_type": "execute_result"
    }
   ],
   "source": [
    "df = pd.read_csv('Used_Bikes.csv')\n",
    "df.head()"
   ]
  },
  {
   "cell_type": "markdown",
   "id": "94309ff1",
   "metadata": {
    "papermill": {
     "duration": 0.031617,
     "end_time": "2022-04-19T12:00:04.333218",
     "exception": false,
     "start_time": "2022-04-19T12:00:04.301601",
     "status": "completed"
    },
    "tags": []
   },
   "source": [
    "# **EDA ANALYSIS ON DATA**"
   ]
  },
  {
   "cell_type": "markdown",
   "id": "7401553b",
   "metadata": {
    "papermill": {
     "duration": 0.031966,
     "end_time": "2022-04-19T12:00:04.397515",
     "exception": false,
     "start_time": "2022-04-19T12:00:04.365549",
     "status": "completed"
    },
    "tags": []
   },
   "source": [
    "## **Getting the names of all features**"
   ]
  },
  {
   "cell_type": "code",
   "execution_count": 7,
   "id": "188373d1",
   "metadata": {
    "execution": {
     "iopub.execute_input": "2022-04-19T12:00:04.463825Z",
     "iopub.status.busy": "2022-04-19T12:00:04.463308Z",
     "iopub.status.idle": "2022-04-19T12:00:04.470698Z",
     "shell.execute_reply": "2022-04-19T12:00:04.469435Z"
    },
    "papermill": {
     "duration": 0.043719,
     "end_time": "2022-04-19T12:00:04.473229",
     "exception": false,
     "start_time": "2022-04-19T12:00:04.429510",
     "status": "completed"
    },
    "tags": []
   },
   "outputs": [
    {
     "name": "stdout",
     "output_type": "stream",
     "text": [
      "bike_name\n",
      "price\n",
      "city\n",
      "kms_driven\n",
      "owner\n",
      "age\n",
      "power\n",
      "brand\n"
     ]
    }
   ],
   "source": [
    "for col in df.columns:\n",
    "    print(col)"
   ]
  },
  {
   "cell_type": "markdown",
   "id": "96195e4d",
   "metadata": {
    "papermill": {
     "duration": 0.032354,
     "end_time": "2022-04-19T12:00:04.538556",
     "exception": false,
     "start_time": "2022-04-19T12:00:04.506202",
     "status": "completed"
    },
    "tags": []
   },
   "source": [
    "## **Checking for Null Values in Data**"
   ]
  },
  {
   "cell_type": "code",
   "execution_count": 8,
   "id": "6095148a",
   "metadata": {
    "execution": {
     "iopub.execute_input": "2022-04-19T12:00:04.607351Z",
     "iopub.status.busy": "2022-04-19T12:00:04.606256Z",
     "iopub.status.idle": "2022-04-19T12:00:04.631742Z",
     "shell.execute_reply": "2022-04-19T12:00:04.630865Z"
    },
    "papermill": {
     "duration": 0.063084,
     "end_time": "2022-04-19T12:00:04.634285",
     "exception": false,
     "start_time": "2022-04-19T12:00:04.571201",
     "status": "completed"
    },
    "tags": []
   },
   "outputs": [
    {
     "data": {
      "text/plain": [
       "bike_name     0\n",
       "price         0\n",
       "city          0\n",
       "kms_driven    0\n",
       "owner         0\n",
       "age           0\n",
       "power         0\n",
       "brand         0\n",
       "dtype: int64"
      ]
     },
     "execution_count": 8,
     "metadata": {},
     "output_type": "execute_result"
    }
   ],
   "source": [
    "df.isnull().sum()"
   ]
  },
  {
   "cell_type": "markdown",
   "id": "a0ff0177",
   "metadata": {
    "papermill": {
     "duration": 0.034019,
     "end_time": "2022-04-19T12:00:04.701252",
     "exception": false,
     "start_time": "2022-04-19T12:00:04.667233",
     "status": "completed"
    },
    "tags": []
   },
   "source": [
    "## **Converting Price for visualization**"
   ]
  },
  {
   "cell_type": "code",
   "execution_count": 9,
   "id": "0059f56c",
   "metadata": {
    "execution": {
     "iopub.execute_input": "2022-04-19T12:00:04.769890Z",
     "iopub.status.busy": "2022-04-19T12:00:04.769225Z",
     "iopub.status.idle": "2022-04-19T12:00:04.811580Z",
     "shell.execute_reply": "2022-04-19T12:00:04.810552Z"
    },
    "papermill": {
     "duration": 0.080199,
     "end_time": "2022-04-19T12:00:04.814355",
     "exception": false,
     "start_time": "2022-04-19T12:00:04.734156",
     "status": "completed"
    },
    "tags": []
   },
   "outputs": [
    {
     "data": {
      "text/html": [
       "<div>\n",
       "<style scoped>\n",
       "    .dataframe tbody tr th:only-of-type {\n",
       "        vertical-align: middle;\n",
       "    }\n",
       "\n",
       "    .dataframe tbody tr th {\n",
       "        vertical-align: top;\n",
       "    }\n",
       "\n",
       "    .dataframe thead th {\n",
       "        text-align: right;\n",
       "    }\n",
       "</style>\n",
       "<table border=\"1\" class=\"dataframe\">\n",
       "  <thead>\n",
       "    <tr style=\"text-align: right;\">\n",
       "      <th></th>\n",
       "      <th>bike_name</th>\n",
       "      <th>city</th>\n",
       "      <th>kms_driven</th>\n",
       "      <th>owner</th>\n",
       "      <th>age</th>\n",
       "      <th>power</th>\n",
       "      <th>brand</th>\n",
       "      <th>s_price</th>\n",
       "    </tr>\n",
       "  </thead>\n",
       "  <tbody>\n",
       "    <tr>\n",
       "      <th>0</th>\n",
       "      <td>TVS Star City Plus Dual Tone 110cc</td>\n",
       "      <td>Ahmedabad</td>\n",
       "      <td>17654</td>\n",
       "      <td>First Owner</td>\n",
       "      <td>3</td>\n",
       "      <td>110</td>\n",
       "      <td>TVS</td>\n",
       "      <td>35.0</td>\n",
       "    </tr>\n",
       "    <tr>\n",
       "      <th>1</th>\n",
       "      <td>Royal Enfield Classic 350cc</td>\n",
       "      <td>Delhi</td>\n",
       "      <td>11000</td>\n",
       "      <td>First Owner</td>\n",
       "      <td>4</td>\n",
       "      <td>350</td>\n",
       "      <td>Royal Enfield</td>\n",
       "      <td>119.9</td>\n",
       "    </tr>\n",
       "    <tr>\n",
       "      <th>2</th>\n",
       "      <td>Triumph Daytona 675R</td>\n",
       "      <td>Delhi</td>\n",
       "      <td>110</td>\n",
       "      <td>First Owner</td>\n",
       "      <td>8</td>\n",
       "      <td>675</td>\n",
       "      <td>Triumph</td>\n",
       "      <td>600.0</td>\n",
       "    </tr>\n",
       "    <tr>\n",
       "      <th>3</th>\n",
       "      <td>TVS Apache RTR 180cc</td>\n",
       "      <td>Bangalore</td>\n",
       "      <td>16329</td>\n",
       "      <td>First Owner</td>\n",
       "      <td>4</td>\n",
       "      <td>180</td>\n",
       "      <td>TVS</td>\n",
       "      <td>65.0</td>\n",
       "    </tr>\n",
       "    <tr>\n",
       "      <th>4</th>\n",
       "      <td>Yamaha FZ S V 2.0 150cc-Ltd. Edition</td>\n",
       "      <td>Bangalore</td>\n",
       "      <td>10000</td>\n",
       "      <td>First Owner</td>\n",
       "      <td>3</td>\n",
       "      <td>150</td>\n",
       "      <td>Yamaha</td>\n",
       "      <td>80.0</td>\n",
       "    </tr>\n",
       "  </tbody>\n",
       "</table>\n",
       "</div>"
      ],
      "text/plain": [
       "                              bike_name       city  kms_driven        owner  \\\n",
       "0    TVS Star City Plus Dual Tone 110cc  Ahmedabad       17654  First Owner   \n",
       "1           Royal Enfield Classic 350cc      Delhi       11000  First Owner   \n",
       "2                  Triumph Daytona 675R      Delhi         110  First Owner   \n",
       "3                  TVS Apache RTR 180cc  Bangalore       16329  First Owner   \n",
       "4  Yamaha FZ S V 2.0 150cc-Ltd. Edition  Bangalore       10000  First Owner   \n",
       "\n",
       "   age  power          brand  s_price  \n",
       "0    3    110            TVS     35.0  \n",
       "1    4    350  Royal Enfield    119.9  \n",
       "2    8    675        Triumph    600.0  \n",
       "3    4    180            TVS     65.0  \n",
       "4    3    150         Yamaha     80.0  "
      ]
     },
     "execution_count": 9,
     "metadata": {},
     "output_type": "execute_result"
    }
   ],
   "source": [
    "price=(df['price']/1000)\n",
    "price.rename(\"s_price\", inplace=True)\n",
    "sprice_df = pd.concat([df,price],axis=1)\n",
    "s_price_df=sprice_df.drop(['price'],axis=1)\n",
    "s_price_df.head()"
   ]
  },
  {
   "cell_type": "code",
   "execution_count": 10,
   "id": "fb7255da",
   "metadata": {
    "execution": {
     "iopub.execute_input": "2022-04-19T12:00:04.885603Z",
     "iopub.status.busy": "2022-04-19T12:00:04.884644Z",
     "iopub.status.idle": "2022-04-19T12:00:05.267779Z",
     "shell.execute_reply": "2022-04-19T12:00:05.266606Z"
    },
    "papermill": {
     "duration": 0.421744,
     "end_time": "2022-04-19T12:00:05.270387",
     "exception": false,
     "start_time": "2022-04-19T12:00:04.848643",
     "status": "completed"
    },
    "tags": []
   },
   "outputs": [
    {
     "data": {
      "text/plain": [
       "[Text(0.5, 0, 'Price(in 1000)'), Text(0, 0.5, 'Type of Owner')]"
      ]
     },
     "execution_count": 10,
     "metadata": {},
     "output_type": "execute_result"
    },
    {
     "data": {
      "image/png": "[encoded data removed]",
      "text/plain": [
       "<Figure size 1500x1000 with 1 Axes>"
      ]
     },
     "metadata": {},
     "output_type": "display_data"
    }
   ],
   "source": [
    "plt.figure(figsize = (15,10))\n",
    "sns.boxenplot(x=\"s_price\",y=\"owner\",data=s_price_df).set(xlabel='Price(in 1000)',ylabel='Type of Owner')"
   ]
  },
  {
   "cell_type": "code",
   "execution_count": 11,
   "id": "85a053d9",
   "metadata": {
    "execution": {
     "iopub.execute_input": "2022-04-19T12:00:05.348055Z",
     "iopub.status.busy": "2022-04-19T12:00:05.347473Z",
     "iopub.status.idle": "2022-04-19T12:00:25.065954Z",
     "shell.execute_reply": "2022-04-19T12:00:25.064498Z"
    },
    "papermill": {
     "duration": 19.764068,
     "end_time": "2022-04-19T12:00:25.070127",
     "exception": false,
     "start_time": "2022-04-19T12:00:05.306059",
     "status": "completed"
    },
    "tags": []
   },
   "outputs": [
    {
     "data": {
      "text/plain": [
       "[Text(0.5, 0, 'Price(in 1000)'), Text(0, 0.5, 'KM dirven')]"
      ]
     },
     "execution_count": 11,
     "metadata": {},
     "output_type": "execute_result"
    },
    {
     "data": {
      "image/png": "[encoded data removed]",
      "text/plain": [
       "<Figure size 1500x800 with 1 Axes>"
      ]
     },
     "metadata": {},
     "output_type": "display_data"
    }
   ],
   "source": [
    "plt.figure(figsize = (15,8))\n",
    "sns.lineplot(x=\"s_price\",y=\"kms_driven\",data=s_price_df).set(xlabel='Price(in 1000)',ylabel='KM dirven')"
   ]
  },
  {
   "cell_type": "code",
   "execution_count": 12,
   "id": "35dc8630",
   "metadata": {
    "execution": {
     "iopub.execute_input": "2022-04-19T12:00:25.153735Z",
     "iopub.status.busy": "2022-04-19T12:00:25.153405Z",
     "iopub.status.idle": "2022-04-19T12:00:26.173262Z",
     "shell.execute_reply": "2022-04-19T12:00:26.172130Z"
    },
    "papermill": {
     "duration": 1.060782,
     "end_time": "2022-04-19T12:00:26.175771",
     "exception": false,
     "start_time": "2022-04-19T12:00:25.114989",
     "status": "completed"
    },
    "tags": []
   },
   "outputs": [
    {
     "data": {
      "text/plain": [
       "[Text(0.5, 0, 'Age'), Text(0, 0.5, 'Price(in 1000)')]"
      ]
     },
     "execution_count": 12,
     "metadata": {},
     "output_type": "execute_result"
    },
    {
     "data": {
      "image/png": "[encoded data removed]",
      "text/plain": [
       "<Figure size 1500x1000 with 1 Axes>"
      ]
     },
     "metadata": {},
     "output_type": "display_data"
    }
   ],
   "source": [
    "plt.figure(figsize = (15,10))\n",
    "sns.boxplot(x='age',y='s_price',data=s_price_df).set(xlabel='Age',ylabel='Price(in 1000)')"
   ]
  },
  {
   "cell_type": "code",
   "execution_count": 13,
   "id": "f3a619b1",
   "metadata": {
    "execution": {
     "iopub.execute_input": "2022-04-19T12:00:26.253710Z",
     "iopub.status.busy": "2022-04-19T12:00:26.253371Z",
     "iopub.status.idle": "2022-04-19T12:00:27.803611Z",
     "shell.execute_reply": "2022-04-19T12:00:27.802509Z"
    },
    "papermill": {
     "duration": 1.592742,
     "end_time": "2022-04-19T12:00:27.806450",
     "exception": false,
     "start_time": "2022-04-19T12:00:26.213708",
     "status": "completed"
    },
    "tags": []
   },
   "outputs": [
    {
     "data": {
      "text/plain": [
       "[Text(0.5, 0, 'Power'), Text(0, 0.5, 'Price(in 1000)')]"
      ]
     },
     "execution_count": 13,
     "metadata": {},
     "output_type": "execute_result"
    },
    {
     "data": {
      "image/png": "[encoded data removed]",
      "text/plain": [
       "<Figure size 3000x2000 with 1 Axes>"
      ]
     },
     "metadata": {},
     "output_type": "display_data"
    }
   ],
   "source": [
    "plt.figure(figsize = (30,20))\n",
    "sns.boxplot(x='power',y='price',data=df).set(xlabel='Power',ylabel='Price(in 1000)')"
   ]
  },
  {
   "cell_type": "markdown",
   "id": "533f09eb",
   "metadata": {
    "papermill": {
     "duration": 0.040457,
     "end_time": "2022-04-19T12:00:27.888428",
     "exception": false,
     "start_time": "2022-04-19T12:00:27.847971",
     "status": "completed"
    },
    "tags": []
   },
   "source": [
    "# **DATA PREPARATION FOR MODELLING**"
   ]
  },
  {
   "cell_type": "markdown",
   "id": "4ce2049c",
   "metadata": {
    "papermill": {
     "duration": 0.040069,
     "end_time": "2022-04-19T12:00:27.968897",
     "exception": false,
     "start_time": "2022-04-19T12:00:27.928828",
     "status": "completed"
    },
    "tags": []
   },
   "source": [
    "## **Creating Dummies to Process Srting Data**"
   ]
  },
  {
   "cell_type": "markdown",
   "id": "1c1b6522",
   "metadata": {
    "papermill": {
     "duration": 0.04233,
     "end_time": "2022-04-19T12:00:28.051801",
     "exception": false,
     "start_time": "2022-04-19T12:00:28.009471",
     "status": "completed"
    },
    "tags": []
   },
   "source": [
    "**Dummies for Type of Ownership**"
   ]
  },
  {
   "cell_type": "code",
   "execution_count": 14,
   "id": "fac1f2d0",
   "metadata": {
    "execution": {
     "iopub.execute_input": "2022-04-19T12:00:28.135735Z",
     "iopub.status.busy": "2022-04-19T12:00:28.135422Z",
     "iopub.status.idle": "2022-04-19T12:00:28.150601Z",
     "shell.execute_reply": "2022-04-19T12:00:28.149888Z"
    },
    "papermill": {
     "duration": 0.059583,
     "end_time": "2022-04-19T12:00:28.152558",
     "exception": false,
     "start_time": "2022-04-19T12:00:28.092975",
     "status": "completed"
    },
    "tags": []
   },
   "outputs": [
    {
     "data": {
      "text/html": [
       "<div>\n",
       "<style scoped>\n",
       "    .dataframe tbody tr th:only-of-type {\n",
       "        vertical-align: middle;\n",
       "    }\n",
       "\n",
       "    .dataframe tbody tr th {\n",
       "        vertical-align: top;\n",
       "    }\n",
       "\n",
       "    .dataframe thead th {\n",
       "        text-align: right;\n",
       "    }\n",
       "</style>\n",
       "<table border=\"1\" class=\"dataframe\">\n",
       "  <thead>\n",
       "    <tr style=\"text-align: right;\">\n",
       "      <th></th>\n",
       "      <th>First Owner</th>\n",
       "      <th>Fourth Owner Or More</th>\n",
       "      <th>Second Owner</th>\n",
       "      <th>Third Owner</th>\n",
       "    </tr>\n",
       "  </thead>\n",
       "  <tbody>\n",
       "    <tr>\n",
       "      <th>0</th>\n",
       "      <td>True</td>\n",
       "      <td>False</td>\n",
       "      <td>False</td>\n",
       "      <td>False</td>\n",
       "    </tr>\n",
       "    <tr>\n",
       "      <th>1</th>\n",
       "      <td>True</td>\n",
       "      <td>False</td>\n",
       "      <td>False</td>\n",
       "      <td>False</td>\n",
       "    </tr>\n",
       "    <tr>\n",
       "      <th>2</th>\n",
       "      <td>True</td>\n",
       "      <td>False</td>\n",
       "      <td>False</td>\n",
       "      <td>False</td>\n",
       "    </tr>\n",
       "    <tr>\n",
       "      <th>3</th>\n",
       "      <td>True</td>\n",
       "      <td>False</td>\n",
       "      <td>False</td>\n",
       "      <td>False</td>\n",
       "    </tr>\n",
       "    <tr>\n",
       "      <th>4</th>\n",
       "      <td>True</td>\n",
       "      <td>False</td>\n",
       "      <td>False</td>\n",
       "      <td>False</td>\n",
       "    </tr>\n",
       "  </tbody>\n",
       "</table>\n",
       "</div>"
      ],
      "text/plain": [
       "   First Owner  Fourth Owner Or More  Second Owner  Third Owner\n",
       "0         True                 False         False        False\n",
       "1         True                 False         False        False\n",
       "2         True                 False         False        False\n",
       "3         True                 False         False        False\n",
       "4         True                 False         False        False"
      ]
     },
     "execution_count": 14,
     "metadata": {},
     "output_type": "execute_result"
    }
   ],
   "source": [
    "owner_dummies=pd.get_dummies(df.owner)\n",
    "owner_dummies.head()"
   ]
  },
  {
   "cell_type": "markdown",
   "id": "7ebfeaed",
   "metadata": {
    "papermill": {
     "duration": 0.042014,
     "end_time": "2022-04-19T12:00:28.247066",
     "exception": false,
     "start_time": "2022-04-19T12:00:28.205052",
     "status": "completed"
    },
    "tags": []
   },
   "source": [
    "**Dummies for different Brands**"
   ]
  },
  {
   "cell_type": "code",
   "execution_count": 15,
   "id": "d817676a",
   "metadata": {
    "execution": {
     "iopub.execute_input": "2022-04-19T12:00:28.330463Z",
     "iopub.status.busy": "2022-04-19T12:00:28.330152Z",
     "iopub.status.idle": "2022-04-19T12:00:28.360574Z",
     "shell.execute_reply": "2022-04-19T12:00:28.359756Z"
    },
    "papermill": {
     "duration": 0.07496,
     "end_time": "2022-04-19T12:00:28.362685",
     "exception": false,
     "start_time": "2022-04-19T12:00:28.287725",
     "status": "completed"
    },
    "tags": []
   },
   "outputs": [
    {
     "data": {
      "text/html": [
       "<div>\n",
       "<style scoped>\n",
       "    .dataframe tbody tr th:only-of-type {\n",
       "        vertical-align: middle;\n",
       "    }\n",
       "\n",
       "    .dataframe tbody tr th {\n",
       "        vertical-align: top;\n",
       "    }\n",
       "\n",
       "    .dataframe thead th {\n",
       "        text-align: right;\n",
       "    }\n",
       "</style>\n",
       "<table border=\"1\" class=\"dataframe\">\n",
       "  <thead>\n",
       "    <tr style=\"text-align: right;\">\n",
       "      <th></th>\n",
       "      <th>BMW</th>\n",
       "      <th>Bajaj</th>\n",
       "      <th>Benelli</th>\n",
       "      <th>Ducati</th>\n",
       "      <th>Harley-Davidson</th>\n",
       "      <th>Hero</th>\n",
       "      <th>Honda</th>\n",
       "      <th>Hyosung</th>\n",
       "      <th>Ideal</th>\n",
       "      <th>Indian</th>\n",
       "      <th>...</th>\n",
       "      <th>LML</th>\n",
       "      <th>MV</th>\n",
       "      <th>Mahindra</th>\n",
       "      <th>Rajdoot</th>\n",
       "      <th>Royal Enfield</th>\n",
       "      <th>Suzuki</th>\n",
       "      <th>TVS</th>\n",
       "      <th>Triumph</th>\n",
       "      <th>Yamaha</th>\n",
       "      <th>Yezdi</th>\n",
       "    </tr>\n",
       "  </thead>\n",
       "  <tbody>\n",
       "    <tr>\n",
       "      <th>0</th>\n",
       "      <td>False</td>\n",
       "      <td>False</td>\n",
       "      <td>False</td>\n",
       "      <td>False</td>\n",
       "      <td>False</td>\n",
       "      <td>False</td>\n",
       "      <td>False</td>\n",
       "      <td>False</td>\n",
       "      <td>False</td>\n",
       "      <td>False</td>\n",
       "      <td>...</td>\n",
       "      <td>False</td>\n",
       "      <td>False</td>\n",
       "      <td>False</td>\n",
       "      <td>False</td>\n",
       "      <td>False</td>\n",
       "      <td>False</td>\n",
       "      <td>True</td>\n",
       "      <td>False</td>\n",
       "      <td>False</td>\n",
       "      <td>False</td>\n",
       "    </tr>\n",
       "    <tr>\n",
       "      <th>1</th>\n",
       "      <td>False</td>\n",
       "      <td>False</td>\n",
       "      <td>False</td>\n",
       "      <td>False</td>\n",
       "      <td>False</td>\n",
       "      <td>False</td>\n",
       "      <td>False</td>\n",
       "      <td>False</td>\n",
       "      <td>False</td>\n",
       "      <td>False</td>\n",
       "      <td>...</td>\n",
       "      <td>False</td>\n",
       "      <td>False</td>\n",
       "      <td>False</td>\n",
       "      <td>False</td>\n",
       "      <td>True</td>\n",
       "      <td>False</td>\n",
       "      <td>False</td>\n",
       "      <td>False</td>\n",
       "      <td>False</td>\n",
       "      <td>False</td>\n",
       "    </tr>\n",
       "    <tr>\n",
       "      <th>2</th>\n",
       "      <td>False</td>\n",
       "      <td>False</td>\n",
       "      <td>False</td>\n",
       "      <td>False</td>\n",
       "      <td>False</td>\n",
       "      <td>False</td>\n",
       "      <td>False</td>\n",
       "      <td>False</td>\n",
       "      <td>False</td>\n",
       "      <td>False</td>\n",
       "      <td>...</td>\n",
       "      <td>False</td>\n",
       "      <td>False</td>\n",
       "      <td>False</td>\n",
       "      <td>False</td>\n",
       "      <td>False</td>\n",
       "      <td>False</td>\n",
       "      <td>False</td>\n",
       "      <td>True</td>\n",
       "      <td>False</td>\n",
       "      <td>False</td>\n",
       "    </tr>\n",
       "    <tr>\n",
       "      <th>3</th>\n",
       "      <td>False</td>\n",
       "      <td>False</td>\n",
       "      <td>False</td>\n",
       "      <td>False</td>\n",
       "      <td>False</td>\n",
       "      <td>False</td>\n",
       "      <td>False</td>\n",
       "      <td>False</td>\n",
       "      <td>False</td>\n",
       "      <td>False</td>\n",
       "      <td>...</td>\n",
       "      <td>False</td>\n",
       "      <td>False</td>\n",
       "      <td>False</td>\n",
       "      <td>False</td>\n",
       "      <td>False</td>\n",
       "      <td>False</td>\n",
       "      <td>True</td>\n",
       "      <td>False</td>\n",
       "      <td>False</td>\n",
       "      <td>False</td>\n",
       "    </tr>\n",
       "    <tr>\n",
       "      <th>4</th>\n",
       "      <td>False</td>\n",
       "      <td>False</td>\n",
       "      <td>False</td>\n",
       "      <td>False</td>\n",
       "      <td>False</td>\n",
       "      <td>False</td>\n",
       "      <td>False</td>\n",
       "      <td>False</td>\n",
       "      <td>False</td>\n",
       "      <td>False</td>\n",
       "      <td>...</td>\n",
       "      <td>False</td>\n",
       "      <td>False</td>\n",
       "      <td>False</td>\n",
       "      <td>False</td>\n",
       "      <td>False</td>\n",
       "      <td>False</td>\n",
       "      <td>False</td>\n",
       "      <td>False</td>\n",
       "      <td>True</td>\n",
       "      <td>False</td>\n",
       "    </tr>\n",
       "  </tbody>\n",
       "</table>\n",
       "<p>5 rows × 23 columns</p>\n",
       "</div>"
      ],
      "text/plain": [
       "     BMW  Bajaj  Benelli  Ducati  Harley-Davidson   Hero  Honda  Hyosung  \\\n",
       "0  False  False    False   False            False  False  False    False   \n",
       "1  False  False    False   False            False  False  False    False   \n",
       "2  False  False    False   False            False  False  False    False   \n",
       "3  False  False    False   False            False  False  False    False   \n",
       "4  False  False    False   False            False  False  False    False   \n",
       "\n",
       "   Ideal  Indian  ...    LML     MV  Mahindra  Rajdoot  Royal Enfield  Suzuki  \\\n",
       "0  False   False  ...  False  False     False    False          False   False   \n",
       "1  False   False  ...  False  False     False    False           True   False   \n",
       "2  False   False  ...  False  False     False    False          False   False   \n",
       "3  False   False  ...  False  False     False    False          False   False   \n",
       "4  False   False  ...  False  False     False    False          False   False   \n",
       "\n",
       "     TVS  Triumph  Yamaha  Yezdi  \n",
       "0   True    False   False  False  \n",
       "1  False    False   False  False  \n",
       "2  False     True   False  False  \n",
       "3   True    False   False  False  \n",
       "4  False    False    True  False  \n",
       "\n",
       "[5 rows x 23 columns]"
      ]
     },
     "execution_count": 15,
     "metadata": {},
     "output_type": "execute_result"
    }
   ],
   "source": [
    "brand_dummies=pd.get_dummies(df.brand)\n",
    "brand_dummies.head()"
   ]
  },
  {
   "cell_type": "markdown",
   "id": "1fbad1be",
   "metadata": {
    "papermill": {
     "duration": 0.043578,
     "end_time": "2022-04-19T12:00:28.447291",
     "exception": false,
     "start_time": "2022-04-19T12:00:28.403713",
     "status": "completed"
    },
    "tags": []
   },
   "source": [
    "**Merging Dummies with Data**"
   ]
  },
  {
   "cell_type": "code",
   "execution_count": 16,
   "id": "31487468",
   "metadata": {
    "execution": {
     "iopub.execute_input": "2022-04-19T12:00:28.530703Z",
     "iopub.status.busy": "2022-04-19T12:00:28.530383Z",
     "iopub.status.idle": "2022-04-19T12:00:28.559755Z",
     "shell.execute_reply": "2022-04-19T12:00:28.558706Z"
    },
    "papermill": {
     "duration": 0.073643,
     "end_time": "2022-04-19T12:00:28.561947",
     "exception": false,
     "start_time": "2022-04-19T12:00:28.488304",
     "status": "completed"
    },
    "tags": []
   },
   "outputs": [
    {
     "data": {
      "text/html": [
       "<div>\n",
       "<style scoped>\n",
       "    .dataframe tbody tr th:only-of-type {\n",
       "        vertical-align: middle;\n",
       "    }\n",
       "\n",
       "    .dataframe tbody tr th {\n",
       "        vertical-align: top;\n",
       "    }\n",
       "\n",
       "    .dataframe thead th {\n",
       "        text-align: right;\n",
       "    }\n",
       "</style>\n",
       "<table border=\"1\" class=\"dataframe\">\n",
       "  <thead>\n",
       "    <tr style=\"text-align: right;\">\n",
       "      <th></th>\n",
       "      <th>bike_name</th>\n",
       "      <th>price</th>\n",
       "      <th>city</th>\n",
       "      <th>kms_driven</th>\n",
       "      <th>owner</th>\n",
       "      <th>age</th>\n",
       "      <th>power</th>\n",
       "      <th>brand</th>\n",
       "      <th>First Owner</th>\n",
       "      <th>Fourth Owner Or More</th>\n",
       "      <th>...</th>\n",
       "      <th>LML</th>\n",
       "      <th>MV</th>\n",
       "      <th>Mahindra</th>\n",
       "      <th>Rajdoot</th>\n",
       "      <th>Royal Enfield</th>\n",
       "      <th>Suzuki</th>\n",
       "      <th>TVS</th>\n",
       "      <th>Triumph</th>\n",
       "      <th>Yamaha</th>\n",
       "      <th>Yezdi</th>\n",
       "    </tr>\n",
       "  </thead>\n",
       "  <tbody>\n",
       "    <tr>\n",
       "      <th>0</th>\n",
       "      <td>TVS Star City Plus Dual Tone 110cc</td>\n",
       "      <td>35000</td>\n",
       "      <td>Ahmedabad</td>\n",
       "      <td>17654</td>\n",
       "      <td>First Owner</td>\n",
       "      <td>3</td>\n",
       "      <td>110</td>\n",
       "      <td>TVS</td>\n",
       "      <td>True</td>\n",
       "      <td>False</td>\n",
       "      <td>...</td>\n",
       "      <td>False</td>\n",
       "      <td>False</td>\n",
       "      <td>False</td>\n",
       "      <td>False</td>\n",
       "      <td>False</td>\n",
       "      <td>False</td>\n",
       "      <td>True</td>\n",
       "      <td>False</td>\n",
       "      <td>False</td>\n",
       "      <td>False</td>\n",
       "    </tr>\n",
       "    <tr>\n",
       "      <th>1</th>\n",
       "      <td>Royal Enfield Classic 350cc</td>\n",
       "      <td>119900</td>\n",
       "      <td>Delhi</td>\n",
       "      <td>11000</td>\n",
       "      <td>First Owner</td>\n",
       "      <td>4</td>\n",
       "      <td>350</td>\n",
       "      <td>Royal Enfield</td>\n",
       "      <td>True</td>\n",
       "      <td>False</td>\n",
       "      <td>...</td>\n",
       "      <td>False</td>\n",
       "      <td>False</td>\n",
       "      <td>False</td>\n",
       "      <td>False</td>\n",
       "      <td>True</td>\n",
       "      <td>False</td>\n",
       "      <td>False</td>\n",
       "      <td>False</td>\n",
       "      <td>False</td>\n",
       "      <td>False</td>\n",
       "    </tr>\n",
       "    <tr>\n",
       "      <th>2</th>\n",
       "      <td>Triumph Daytona 675R</td>\n",
       "      <td>600000</td>\n",
       "      <td>Delhi</td>\n",
       "      <td>110</td>\n",
       "      <td>First Owner</td>\n",
       "      <td>8</td>\n",
       "      <td>675</td>\n",
       "      <td>Triumph</td>\n",
       "      <td>True</td>\n",
       "      <td>False</td>\n",
       "      <td>...</td>\n",
       "      <td>False</td>\n",
       "      <td>False</td>\n",
       "      <td>False</td>\n",
       "      <td>False</td>\n",
       "      <td>False</td>\n",
       "      <td>False</td>\n",
       "      <td>False</td>\n",
       "      <td>True</td>\n",
       "      <td>False</td>\n",
       "      <td>False</td>\n",
       "    </tr>\n",
       "    <tr>\n",
       "      <th>3</th>\n",
       "      <td>TVS Apache RTR 180cc</td>\n",
       "      <td>65000</td>\n",
       "      <td>Bangalore</td>\n",
       "      <td>16329</td>\n",
       "      <td>First Owner</td>\n",
       "      <td>4</td>\n",
       "      <td>180</td>\n",
       "      <td>TVS</td>\n",
       "      <td>True</td>\n",
       "      <td>False</td>\n",
       "      <td>...</td>\n",
       "      <td>False</td>\n",
       "      <td>False</td>\n",
       "      <td>False</td>\n",
       "      <td>False</td>\n",
       "      <td>False</td>\n",
       "      <td>False</td>\n",
       "      <td>True</td>\n",
       "      <td>False</td>\n",
       "      <td>False</td>\n",
       "      <td>False</td>\n",
       "    </tr>\n",
       "    <tr>\n",
       "      <th>4</th>\n",
       "      <td>Yamaha FZ S V 2.0 150cc-Ltd. Edition</td>\n",
       "      <td>80000</td>\n",
       "      <td>Bangalore</td>\n",
       "      <td>10000</td>\n",
       "      <td>First Owner</td>\n",
       "      <td>3</td>\n",
       "      <td>150</td>\n",
       "      <td>Yamaha</td>\n",
       "      <td>True</td>\n",
       "      <td>False</td>\n",
       "      <td>...</td>\n",
       "      <td>False</td>\n",
       "      <td>False</td>\n",
       "      <td>False</td>\n",
       "      <td>False</td>\n",
       "      <td>False</td>\n",
       "      <td>False</td>\n",
       "      <td>False</td>\n",
       "      <td>False</td>\n",
       "      <td>True</td>\n",
       "      <td>False</td>\n",
       "    </tr>\n",
       "  </tbody>\n",
       "</table>\n",
       "<p>5 rows × 35 columns</p>\n",
       "</div>"
      ],
      "text/plain": [
       "                              bike_name   price       city  kms_driven  \\\n",
       "0    TVS Star City Plus Dual Tone 110cc   35000  Ahmedabad       17654   \n",
       "1           Royal Enfield Classic 350cc  119900      Delhi       11000   \n",
       "2                  Triumph Daytona 675R  600000      Delhi         110   \n",
       "3                  TVS Apache RTR 180cc   65000  Bangalore       16329   \n",
       "4  Yamaha FZ S V 2.0 150cc-Ltd. Edition   80000  Bangalore       10000   \n",
       "\n",
       "         owner  age  power          brand  First Owner  Fourth Owner Or More  \\\n",
       "0  First Owner    3    110            TVS         True                 False   \n",
       "1  First Owner    4    350  Royal Enfield         True                 False   \n",
       "2  First Owner    8    675        Triumph         True                 False   \n",
       "3  First Owner    4    180            TVS         True                 False   \n",
       "4  First Owner    3    150         Yamaha         True                 False   \n",
       "\n",
       "   ...    LML     MV  Mahindra  Rajdoot  Royal Enfield  Suzuki    TVS  \\\n",
       "0  ...  False  False     False    False          False   False   True   \n",
       "1  ...  False  False     False    False           True   False  False   \n",
       "2  ...  False  False     False    False          False   False  False   \n",
       "3  ...  False  False     False    False          False   False   True   \n",
       "4  ...  False  False     False    False          False   False  False   \n",
       "\n",
       "   Triumph  Yamaha  Yezdi  \n",
       "0    False   False  False  \n",
       "1    False   False  False  \n",
       "2     True   False  False  \n",
       "3    False   False  False  \n",
       "4    False    True  False  \n",
       "\n",
       "[5 rows x 35 columns]"
      ]
     },
     "execution_count": 16,
     "metadata": {},
     "output_type": "execute_result"
    }
   ],
   "source": [
    "merged_df = pd.concat([df,owner_dummies,brand_dummies],axis=1)\n",
    "merged_df.head()"
   ]
  },
  {
   "cell_type": "markdown",
   "id": "7b801738",
   "metadata": {
    "papermill": {
     "duration": 0.041082,
     "end_time": "2022-04-19T12:00:28.644356",
     "exception": false,
     "start_time": "2022-04-19T12:00:28.603274",
     "status": "completed"
    },
    "tags": []
   },
   "source": [
    "**Dropping Unwanted Columns**"
   ]
  },
  {
   "cell_type": "code",
   "execution_count": 17,
   "id": "cb1d88a3",
   "metadata": {
    "execution": {
     "iopub.execute_input": "2022-04-19T12:00:28.728876Z",
     "iopub.status.busy": "2022-04-19T12:00:28.728575Z",
     "iopub.status.idle": "2022-04-19T12:00:28.758410Z",
     "shell.execute_reply": "2022-04-19T12:00:28.757775Z"
    },
    "papermill": {
     "duration": 0.074704,
     "end_time": "2022-04-19T12:00:28.760588",
     "exception": false,
     "start_time": "2022-04-19T12:00:28.685884",
     "status": "completed"
    },
    "tags": []
   },
   "outputs": [
    {
     "data": {
      "text/html": [
       "<div>\n",
       "<style scoped>\n",
       "    .dataframe tbody tr th:only-of-type {\n",
       "        vertical-align: middle;\n",
       "    }\n",
       "\n",
       "    .dataframe tbody tr th {\n",
       "        vertical-align: top;\n",
       "    }\n",
       "\n",
       "    .dataframe thead th {\n",
       "        text-align: right;\n",
       "    }\n",
       "</style>\n",
       "<table border=\"1\" class=\"dataframe\">\n",
       "  <thead>\n",
       "    <tr style=\"text-align: right;\">\n",
       "      <th></th>\n",
       "      <th>price</th>\n",
       "      <th>kms_driven</th>\n",
       "      <th>age</th>\n",
       "      <th>power</th>\n",
       "      <th>First Owner</th>\n",
       "      <th>Second Owner</th>\n",
       "      <th>Third Owner</th>\n",
       "      <th>Bajaj</th>\n",
       "      <th>Benelli</th>\n",
       "      <th>Ducati</th>\n",
       "      <th>...</th>\n",
       "      <th>LML</th>\n",
       "      <th>MV</th>\n",
       "      <th>Mahindra</th>\n",
       "      <th>Rajdoot</th>\n",
       "      <th>Royal Enfield</th>\n",
       "      <th>Suzuki</th>\n",
       "      <th>TVS</th>\n",
       "      <th>Triumph</th>\n",
       "      <th>Yamaha</th>\n",
       "      <th>Yezdi</th>\n",
       "    </tr>\n",
       "  </thead>\n",
       "  <tbody>\n",
       "    <tr>\n",
       "      <th>0</th>\n",
       "      <td>35000</td>\n",
       "      <td>17654</td>\n",
       "      <td>3</td>\n",
       "      <td>110</td>\n",
       "      <td>True</td>\n",
       "      <td>False</td>\n",
       "      <td>False</td>\n",
       "      <td>False</td>\n",
       "      <td>False</td>\n",
       "      <td>False</td>\n",
       "      <td>...</td>\n",
       "      <td>False</td>\n",
       "      <td>False</td>\n",
       "      <td>False</td>\n",
       "      <td>False</td>\n",
       "      <td>False</td>\n",
       "      <td>False</td>\n",
       "      <td>True</td>\n",
       "      <td>False</td>\n",
       "      <td>False</td>\n",
       "      <td>False</td>\n",
       "    </tr>\n",
       "    <tr>\n",
       "      <th>1</th>\n",
       "      <td>119900</td>\n",
       "      <td>11000</td>\n",
       "      <td>4</td>\n",
       "      <td>350</td>\n",
       "      <td>True</td>\n",
       "      <td>False</td>\n",
       "      <td>False</td>\n",
       "      <td>False</td>\n",
       "      <td>False</td>\n",
       "      <td>False</td>\n",
       "      <td>...</td>\n",
       "      <td>False</td>\n",
       "      <td>False</td>\n",
       "      <td>False</td>\n",
       "      <td>False</td>\n",
       "      <td>True</td>\n",
       "      <td>False</td>\n",
       "      <td>False</td>\n",
       "      <td>False</td>\n",
       "      <td>False</td>\n",
       "      <td>False</td>\n",
       "    </tr>\n",
       "    <tr>\n",
       "      <th>2</th>\n",
       "      <td>600000</td>\n",
       "      <td>110</td>\n",
       "      <td>8</td>\n",
       "      <td>675</td>\n",
       "      <td>True</td>\n",
       "      <td>False</td>\n",
       "      <td>False</td>\n",
       "      <td>False</td>\n",
       "      <td>False</td>\n",
       "      <td>False</td>\n",
       "      <td>...</td>\n",
       "      <td>False</td>\n",
       "      <td>False</td>\n",
       "      <td>False</td>\n",
       "      <td>False</td>\n",
       "      <td>False</td>\n",
       "      <td>False</td>\n",
       "      <td>False</td>\n",
       "      <td>True</td>\n",
       "      <td>False</td>\n",
       "      <td>False</td>\n",
       "    </tr>\n",
       "    <tr>\n",
       "      <th>3</th>\n",
       "      <td>65000</td>\n",
       "      <td>16329</td>\n",
       "      <td>4</td>\n",
       "      <td>180</td>\n",
       "      <td>True</td>\n",
       "      <td>False</td>\n",
       "      <td>False</td>\n",
       "      <td>False</td>\n",
       "      <td>False</td>\n",
       "      <td>False</td>\n",
       "      <td>...</td>\n",
       "      <td>False</td>\n",
       "      <td>False</td>\n",
       "      <td>False</td>\n",
       "      <td>False</td>\n",
       "      <td>False</td>\n",
       "      <td>False</td>\n",
       "      <td>True</td>\n",
       "      <td>False</td>\n",
       "      <td>False</td>\n",
       "      <td>False</td>\n",
       "    </tr>\n",
       "    <tr>\n",
       "      <th>4</th>\n",
       "      <td>80000</td>\n",
       "      <td>10000</td>\n",
       "      <td>3</td>\n",
       "      <td>150</td>\n",
       "      <td>True</td>\n",
       "      <td>False</td>\n",
       "      <td>False</td>\n",
       "      <td>False</td>\n",
       "      <td>False</td>\n",
       "      <td>False</td>\n",
       "      <td>...</td>\n",
       "      <td>False</td>\n",
       "      <td>False</td>\n",
       "      <td>False</td>\n",
       "      <td>False</td>\n",
       "      <td>False</td>\n",
       "      <td>False</td>\n",
       "      <td>False</td>\n",
       "      <td>False</td>\n",
       "      <td>True</td>\n",
       "      <td>False</td>\n",
       "    </tr>\n",
       "  </tbody>\n",
       "</table>\n",
       "<p>5 rows × 29 columns</p>\n",
       "</div>"
      ],
      "text/plain": [
       "    price  kms_driven  age  power  First Owner  Second Owner  Third Owner  \\\n",
       "0   35000       17654    3    110         True         False        False   \n",
       "1  119900       11000    4    350         True         False        False   \n",
       "2  600000         110    8    675         True         False        False   \n",
       "3   65000       16329    4    180         True         False        False   \n",
       "4   80000       10000    3    150         True         False        False   \n",
       "\n",
       "   Bajaj  Benelli  Ducati  ...    LML     MV  Mahindra  Rajdoot  \\\n",
       "0  False    False   False  ...  False  False     False    False   \n",
       "1  False    False   False  ...  False  False     False    False   \n",
       "2  False    False   False  ...  False  False     False    False   \n",
       "3  False    False   False  ...  False  False     False    False   \n",
       "4  False    False   False  ...  False  False     False    False   \n",
       "\n",
       "   Royal Enfield  Suzuki    TVS  Triumph  Yamaha  Yezdi  \n",
       "0          False   False   True    False   False  False  \n",
       "1           True   False  False    False   False  False  \n",
       "2          False   False  False     True   False  False  \n",
       "3          False   False   True    False   False  False  \n",
       "4          False   False  False    False    True  False  \n",
       "\n",
       "[5 rows x 29 columns]"
      ]
     },
     "execution_count": 17,
     "metadata": {},
     "output_type": "execute_result"
    }
   ],
   "source": [
    "final_df=merged_df.drop(['brand','BMW','owner','Fourth Owner Or More','bike_name','city'],axis=1)\n",
    "final_df.head()"
   ]
  },
  {
   "cell_type": "markdown",
   "id": "ae81be76",
   "metadata": {
    "papermill": {
     "duration": 0.043797,
     "end_time": "2022-04-19T12:00:28.847010",
     "exception": false,
     "start_time": "2022-04-19T12:00:28.803213",
     "status": "completed"
    },
    "tags": []
   },
   "source": [
    "# **MAKING MODEL USING LINEAR REGRESSION**"
   ]
  },
  {
   "cell_type": "markdown",
   "id": "b3824f20",
   "metadata": {
    "papermill": {
     "duration": 0.04267,
     "end_time": "2022-04-19T12:00:28.934474",
     "exception": false,
     "start_time": "2022-04-19T12:00:28.891804",
     "status": "completed"
    },
    "tags": []
   },
   "source": [
    "## **Defining Dependent and Independent Variables**"
   ]
  },
  {
   "cell_type": "markdown",
   "id": "fbca1250",
   "metadata": {
    "papermill": {
     "duration": 0.04397,
     "end_time": "2022-04-19T12:00:29.020882",
     "exception": false,
     "start_time": "2022-04-19T12:00:28.976912",
     "status": "completed"
    },
    "tags": []
   },
   "source": [
    "**Dependent variable will be everything apart from price**"
   ]
  },
  {
   "cell_type": "code",
   "execution_count": 18,
   "id": "81c9e2a7",
   "metadata": {
    "execution": {
     "iopub.execute_input": "2022-04-19T12:00:29.107213Z",
     "iopub.status.busy": "2022-04-19T12:00:29.106970Z",
     "iopub.status.idle": "2022-04-19T12:00:29.130034Z",
     "shell.execute_reply": "2022-04-19T12:00:29.128974Z"
    },
    "papermill": {
     "duration": 0.068888,
     "end_time": "2022-04-19T12:00:29.132208",
     "exception": false,
     "start_time": "2022-04-19T12:00:29.063320",
     "status": "completed"
    },
    "tags": []
   },
   "outputs": [
    {
     "data": {
      "text/html": [
       "<div>\n",
       "<style scoped>\n",
       "    .dataframe tbody tr th:only-of-type {\n",
       "        vertical-align: middle;\n",
       "    }\n",
       "\n",
       "    .dataframe tbody tr th {\n",
       "        vertical-align: top;\n",
       "    }\n",
       "\n",
       "    .dataframe thead th {\n",
       "        text-align: right;\n",
       "    }\n",
       "</style>\n",
       "<table border=\"1\" class=\"dataframe\">\n",
       "  <thead>\n",
       "    <tr style=\"text-align: right;\">\n",
       "      <th></th>\n",
       "      <th>kms_driven</th>\n",
       "      <th>age</th>\n",
       "      <th>power</th>\n",
       "      <th>First Owner</th>\n",
       "      <th>Second Owner</th>\n",
       "      <th>Third Owner</th>\n",
       "      <th>Bajaj</th>\n",
       "      <th>Benelli</th>\n",
       "      <th>Ducati</th>\n",
       "      <th>Harley-Davidson</th>\n",
       "      <th>...</th>\n",
       "      <th>LML</th>\n",
       "      <th>MV</th>\n",
       "      <th>Mahindra</th>\n",
       "      <th>Rajdoot</th>\n",
       "      <th>Royal Enfield</th>\n",
       "      <th>Suzuki</th>\n",
       "      <th>TVS</th>\n",
       "      <th>Triumph</th>\n",
       "      <th>Yamaha</th>\n",
       "      <th>Yezdi</th>\n",
       "    </tr>\n",
       "  </thead>\n",
       "  <tbody>\n",
       "    <tr>\n",
       "      <th>0</th>\n",
       "      <td>17654</td>\n",
       "      <td>3</td>\n",
       "      <td>110</td>\n",
       "      <td>True</td>\n",
       "      <td>False</td>\n",
       "      <td>False</td>\n",
       "      <td>False</td>\n",
       "      <td>False</td>\n",
       "      <td>False</td>\n",
       "      <td>False</td>\n",
       "      <td>...</td>\n",
       "      <td>False</td>\n",
       "      <td>False</td>\n",
       "      <td>False</td>\n",
       "      <td>False</td>\n",
       "      <td>False</td>\n",
       "      <td>False</td>\n",
       "      <td>True</td>\n",
       "      <td>False</td>\n",
       "      <td>False</td>\n",
       "      <td>False</td>\n",
       "    </tr>\n",
       "    <tr>\n",
       "      <th>1</th>\n",
       "      <td>11000</td>\n",
       "      <td>4</td>\n",
       "      <td>350</td>\n",
       "      <td>True</td>\n",
       "      <td>False</td>\n",
       "      <td>False</td>\n",
       "      <td>False</td>\n",
       "      <td>False</td>\n",
       "      <td>False</td>\n",
       "      <td>False</td>\n",
       "      <td>...</td>\n",
       "      <td>False</td>\n",
       "      <td>False</td>\n",
       "      <td>False</td>\n",
       "      <td>False</td>\n",
       "      <td>True</td>\n",
       "      <td>False</td>\n",
       "      <td>False</td>\n",
       "      <td>False</td>\n",
       "      <td>False</td>\n",
       "      <td>False</td>\n",
       "    </tr>\n",
       "    <tr>\n",
       "      <th>2</th>\n",
       "      <td>110</td>\n",
       "      <td>8</td>\n",
       "      <td>675</td>\n",
       "      <td>True</td>\n",
       "      <td>False</td>\n",
       "      <td>False</td>\n",
       "      <td>False</td>\n",
       "      <td>False</td>\n",
       "      <td>False</td>\n",
       "      <td>False</td>\n",
       "      <td>...</td>\n",
       "      <td>False</td>\n",
       "      <td>False</td>\n",
       "      <td>False</td>\n",
       "      <td>False</td>\n",
       "      <td>False</td>\n",
       "      <td>False</td>\n",
       "      <td>False</td>\n",
       "      <td>True</td>\n",
       "      <td>False</td>\n",
       "      <td>False</td>\n",
       "    </tr>\n",
       "    <tr>\n",
       "      <th>3</th>\n",
       "      <td>16329</td>\n",
       "      <td>4</td>\n",
       "      <td>180</td>\n",
       "      <td>True</td>\n",
       "      <td>False</td>\n",
       "      <td>False</td>\n",
       "      <td>False</td>\n",
       "      <td>False</td>\n",
       "      <td>False</td>\n",
       "      <td>False</td>\n",
       "      <td>...</td>\n",
       "      <td>False</td>\n",
       "      <td>False</td>\n",
       "      <td>False</td>\n",
       "      <td>False</td>\n",
       "      <td>False</td>\n",
       "      <td>False</td>\n",
       "      <td>True</td>\n",
       "      <td>False</td>\n",
       "      <td>False</td>\n",
       "      <td>False</td>\n",
       "    </tr>\n",
       "    <tr>\n",
       "      <th>4</th>\n",
       "      <td>10000</td>\n",
       "      <td>3</td>\n",
       "      <td>150</td>\n",
       "      <td>True</td>\n",
       "      <td>False</td>\n",
       "      <td>False</td>\n",
       "      <td>False</td>\n",
       "      <td>False</td>\n",
       "      <td>False</td>\n",
       "      <td>False</td>\n",
       "      <td>...</td>\n",
       "      <td>False</td>\n",
       "      <td>False</td>\n",
       "      <td>False</td>\n",
       "      <td>False</td>\n",
       "      <td>False</td>\n",
       "      <td>False</td>\n",
       "      <td>False</td>\n",
       "      <td>False</td>\n",
       "      <td>True</td>\n",
       "      <td>False</td>\n",
       "    </tr>\n",
       "  </tbody>\n",
       "</table>\n",
       "<p>5 rows × 28 columns</p>\n",
       "</div>"
      ],
      "text/plain": [
       "   kms_driven  age  power  First Owner  Second Owner  Third Owner  Bajaj  \\\n",
       "0       17654    3    110         True         False        False  False   \n",
       "1       11000    4    350         True         False        False  False   \n",
       "2         110    8    675         True         False        False  False   \n",
       "3       16329    4    180         True         False        False  False   \n",
       "4       10000    3    150         True         False        False  False   \n",
       "\n",
       "   Benelli  Ducati  Harley-Davidson  ...    LML     MV  Mahindra  Rajdoot  \\\n",
       "0    False   False            False  ...  False  False     False    False   \n",
       "1    False   False            False  ...  False  False     False    False   \n",
       "2    False   False            False  ...  False  False     False    False   \n",
       "3    False   False            False  ...  False  False     False    False   \n",
       "4    False   False            False  ...  False  False     False    False   \n",
       "\n",
       "   Royal Enfield  Suzuki    TVS  Triumph  Yamaha  Yezdi  \n",
       "0          False   False   True    False   False  False  \n",
       "1           True   False  False    False   False  False  \n",
       "2          False   False  False     True   False  False  \n",
       "3          False   False   True    False   False  False  \n",
       "4          False   False  False    False    True  False  \n",
       "\n",
       "[5 rows x 28 columns]"
      ]
     },
     "execution_count": 18,
     "metadata": {},
     "output_type": "execute_result"
    }
   ],
   "source": [
    "x= final_df.drop(['price'],axis=1)\n",
    "x.head()"
   ]
  },
  {
   "cell_type": "markdown",
   "id": "00aaefbe",
   "metadata": {
    "papermill": {
     "duration": 0.042853,
     "end_time": "2022-04-19T12:00:29.217885",
     "exception": false,
     "start_time": "2022-04-19T12:00:29.175032",
     "status": "completed"
    },
    "tags": []
   },
   "source": [
    "**Independent variable will be price**"
   ]
  },
  {
   "cell_type": "code",
   "execution_count": 19,
   "id": "e1a1b46f",
   "metadata": {
    "execution": {
     "iopub.execute_input": "2022-04-19T12:00:29.305584Z",
     "iopub.status.busy": "2022-04-19T12:00:29.305313Z",
     "iopub.status.idle": "2022-04-19T12:00:29.316361Z",
     "shell.execute_reply": "2022-04-19T12:00:29.315357Z"
    },
    "papermill": {
     "duration": 0.057769,
     "end_time": "2022-04-19T12:00:29.318628",
     "exception": false,
     "start_time": "2022-04-19T12:00:29.260859",
     "status": "completed"
    },
    "tags": []
   },
   "outputs": [
    {
     "data": {
      "text/html": [
       "<div>\n",
       "<style scoped>\n",
       "    .dataframe tbody tr th:only-of-type {\n",
       "        vertical-align: middle;\n",
       "    }\n",
       "\n",
       "    .dataframe tbody tr th {\n",
       "        vertical-align: top;\n",
       "    }\n",
       "\n",
       "    .dataframe thead th {\n",
       "        text-align: right;\n",
       "    }\n",
       "</style>\n",
       "<table border=\"1\" class=\"dataframe\">\n",
       "  <thead>\n",
       "    <tr style=\"text-align: right;\">\n",
       "      <th></th>\n",
       "      <th>price</th>\n",
       "    </tr>\n",
       "  </thead>\n",
       "  <tbody>\n",
       "    <tr>\n",
       "      <th>0</th>\n",
       "      <td>35000</td>\n",
       "    </tr>\n",
       "    <tr>\n",
       "      <th>1</th>\n",
       "      <td>119900</td>\n",
       "    </tr>\n",
       "    <tr>\n",
       "      <th>2</th>\n",
       "      <td>600000</td>\n",
       "    </tr>\n",
       "    <tr>\n",
       "      <th>3</th>\n",
       "      <td>65000</td>\n",
       "    </tr>\n",
       "    <tr>\n",
       "      <th>4</th>\n",
       "      <td>80000</td>\n",
       "    </tr>\n",
       "  </tbody>\n",
       "</table>\n",
       "</div>"
      ],
      "text/plain": [
       "    price\n",
       "0   35000\n",
       "1  119900\n",
       "2  600000\n",
       "3   65000\n",
       "4   80000"
      ]
     },
     "execution_count": 19,
     "metadata": {},
     "output_type": "execute_result"
    }
   ],
   "source": [
    "y= final_df[['price']]\n",
    "y.head()"
   ]
  },
  {
   "cell_type": "markdown",
   "id": "e185bdc8",
   "metadata": {
    "papermill": {
     "duration": 0.044038,
     "end_time": "2022-04-19T12:00:29.410280",
     "exception": false,
     "start_time": "2022-04-19T12:00:29.366242",
     "status": "completed"
    },
    "tags": []
   },
   "source": [
    "## **Splitting Test and Train data sets**"
   ]
  },
  {
   "cell_type": "markdown",
   "id": "35f49294",
   "metadata": {
    "papermill": {
     "duration": 0.045124,
     "end_time": "2022-04-19T12:00:29.511830",
     "exception": false,
     "start_time": "2022-04-19T12:00:29.466706",
     "status": "completed"
    },
    "tags": []
   },
   "source": [
    "**Train and Test data is split by 80-20 ratio, also Train data is fixed**"
   ]
  },
  {
   "cell_type": "code",
   "execution_count": 20,
   "id": "37ae5c0d",
   "metadata": {
    "execution": {
     "iopub.execute_input": "2022-04-19T12:00:29.610087Z",
     "iopub.status.busy": "2022-04-19T12:00:29.609800Z",
     "iopub.status.idle": "2022-04-19T12:00:29.627402Z",
     "shell.execute_reply": "2022-04-19T12:00:29.626254Z"
    },
    "papermill": {
     "duration": 0.070204,
     "end_time": "2022-04-19T12:00:29.630063",
     "exception": false,
     "start_time": "2022-04-19T12:00:29.559859",
     "status": "completed"
    },
    "tags": []
   },
   "outputs": [],
   "source": [
    "x_train, x_test, y_train, y_test = train_test_split(x,y,test_size=0.2,random_state=10)"
   ]
  },
  {
   "cell_type": "markdown",
   "id": "6e906724",
   "metadata": {
    "papermill": {
     "duration": 0.045002,
     "end_time": "2022-04-19T12:00:29.720829",
     "exception": false,
     "start_time": "2022-04-19T12:00:29.675827",
     "status": "completed"
    },
    "tags": []
   },
   "source": [
    "## **Model Training**"
   ]
  },
  {
   "cell_type": "code",
   "execution_count": 21,
   "id": "782eb984",
   "metadata": {
    "execution": {
     "iopub.execute_input": "2022-04-19T12:00:29.811196Z",
     "iopub.status.busy": "2022-04-19T12:00:29.810928Z",
     "iopub.status.idle": "2022-04-19T12:00:29.869275Z",
     "shell.execute_reply": "2022-04-19T12:00:29.868295Z"
    },
    "papermill": {
     "duration": 0.107502,
     "end_time": "2022-04-19T12:00:29.872294",
     "exception": false,
     "start_time": "2022-04-19T12:00:29.764792",
     "status": "completed"
    },
    "tags": []
   },
   "outputs": [
    {
     "data": {
      "text/html": [
       "<style>#sk-container-id-1 {\n",
       "  /* Definition of color scheme common for light and dark mode */\n",
       "  --sklearn-color-text: #000;\n",
       "  --sklearn-color-text-muted: #666;\n",
       "  --sklearn-color-line: gray;\n",
       "  /* Definition of color scheme for unfitted estimators */\n",
       "  --sklearn-color-unfitted-level-0: #fff5e6;\n",
       "  --sklearn-color-unfitted-level-1: #f6e4d2;\n",
       "  --sklearn-color-unfitted-level-2: #ffe0b3;\n",
       "  --sklearn-color-unfitted-level-3: chocolate;\n",
       "  /* Definition of color scheme for fitted estimators */\n",
       "  --sklearn-color-fitted-level-0: #f0f8ff;\n",
       "  --sklearn-color-fitted-level-1: #d4ebff;\n",
       "  --sklearn-color-fitted-level-2: #b3dbfd;\n",
       "  --sklearn-color-fitted-level-3: cornflowerblue;\n",
       "\n",
       "  /* Specific color for light theme */\n",
       "  --sklearn-color-text-on-default-background: var(--sg-text-color, var(--theme-code-foreground, var(--jp-content-font-color1, black)));\n",
       "  --sklearn-color-background: var(--sg-background-color, var(--theme-background, var(--jp-layout-color0, white)));\n",
       "  --sklearn-color-border-box: var(--sg-text-color, var(--theme-code-foreground, var(--jp-content-font-color1, black)));\n",
       "  --sklearn-color-icon: #696969;\n",
       "\n",
       "  @media (prefers-color-scheme: dark) {\n",
       "    /* Redefinition of color scheme for dark theme */\n",
       "    --sklearn-color-text-on-default-background: var(--sg-text-color, var(--theme-code-foreground, var(--jp-content-font-color1, white)));\n",
       "    --sklearn-color-background: var(--sg-background-color, var(--theme-background, var(--jp-layout-color0, #111)));\n",
       "    --sklearn-color-border-box: var(--sg-text-color, var(--theme-code-foreground, var(--jp-content-font-color1, white)));\n",
       "    --sklearn-color-icon: #878787;\n",
       "  }\n",
       "}\n",
       "\n",
       "#sk-container-id-1 {\n",
       "  color: var(--sklearn-color-text);\n",
       "}\n",
       "\n",
       "#sk-container-id-1 pre {\n",
       "  padding: 0;\n",
       "}\n",
       "\n",
       "#sk-container-id-1 input.sk-hidden--visually {\n",
       "  border: 0;\n",
       "  clip: rect(1px 1px 1px 1px);\n",
       "  clip: rect(1px, 1px, 1px, 1px);\n",
       "  height: 1px;\n",
       "  margin: -1px;\n",
       "  overflow: hidden;\n",
       "  padding: 0;\n",
       "  position: absolute;\n",
       "  width: 1px;\n",
       "}\n",
       "\n",
       "#sk-container-id-1 div.sk-dashed-wrapped {\n",
       "  border: 1px dashed var(--sklearn-color-line);\n",
       "  margin: 0 0.4em 0.5em 0.4em;\n",
       "  box-sizing: border-box;\n",
       "  padding-bottom: 0.4em;\n",
       "  background-color: var(--sklearn-color-background);\n",
       "}\n",
       "\n",
       "#sk-container-id-1 div.sk-container {\n",
       "  /* jupyter's `normalize.less` sets `[hidden] { display: none; }`\n",
       "     but bootstrap.min.css set `[hidden] { display: none !important; }`\n",
       "     so we also need the `!important` here to be able to override the\n",
       "     default hidden behavior on the sphinx rendered scikit-learn.org.\n",
       "     See: https://github.com/scikit-learn/scikit-learn/issues/21755 */\n",
       "  display: inline-block !important;\n",
       "  position: relative;\n",
       "}\n",
       "\n",
       "#sk-container-id-1 div.sk-text-repr-fallback {\n",
       "  display: none;\n",
       "}\n",
       "\n",
       "div.sk-parallel-item,\n",
       "div.sk-serial,\n",
       "div.sk-item {\n",
       "  /* draw centered vertical line to link estimators */\n",
       "  background-image: linear-gradient(var(--sklearn-color-text-on-default-background), var(--sklearn-color-text-on-default-background));\n",
       "  background-size: 2px 100%;\n",
       "  background-repeat: no-repeat;\n",
       "  background-position: center center;\n",
       "}\n",
       "\n",
       "/* Parallel-specific style estimator block */\n",
       "\n",
       "#sk-container-id-1 div.sk-parallel-item::after {\n",
       "  content: \"\";\n",
       "  width: 100%;\n",
       "  border-bottom: 2px solid var(--sklearn-color-text-on-default-background);\n",
       "  flex-grow: 1;\n",
       "}\n",
       "\n",
       "#sk-container-id-1 div.sk-parallel {\n",
       "  display: flex;\n",
       "  align-items: stretch;\n",
       "  justify-content: center;\n",
       "  background-color: var(--sklearn-color-background);\n",
       "  position: relative;\n",
       "}\n",
       "\n",
       "#sk-container-id-1 div.sk-parallel-item {\n",
       "  display: flex;\n",
       "  flex-direction: column;\n",
       "}\n",
       "\n",
       "#sk-container-id-1 div.sk-parallel-item:first-child::after {\n",
       "  align-self: flex-end;\n",
       "  width: 50%;\n",
       "}\n",
       "\n",
       "#sk-container-id-1 div.sk-parallel-item:last-child::after {\n",
       "  align-self: flex-start;\n",
       "  width: 50%;\n",
       "}\n",
       "\n",
       "#sk-container-id-1 div.sk-parallel-item:only-child::after {\n",
       "  width: 0;\n",
       "}\n",
       "\n",
       "/* Serial-specific style estimator block */\n",
       "\n",
       "#sk-container-id-1 div.sk-serial {\n",
       "  display: flex;\n",
       "  flex-direction: column;\n",
       "  align-items: center;\n",
       "  background-color: var(--sklearn-color-background);\n",
       "  padding-right: 1em;\n",
       "  padding-left: 1em;\n",
       "}\n",
       "\n",
       "\n",
       "/* Toggleable style: style used for estimator/Pipeline/ColumnTransformer box that is\n",
       "clickable and can be expanded/collapsed.\n",
       "- Pipeline and ColumnTransformer use this feature and define the default style\n",
       "- Estimators will overwrite some part of the style using the `sk-estimator` class\n",
       "*/\n",
       "\n",
       "/* Pipeline and ColumnTransformer style (default) */\n",
       "\n",
       "#sk-container-id-1 div.sk-toggleable {\n",
       "  /* Default theme specific background. It is overwritten whether we have a\n",
       "  specific estimator or a Pipeline/ColumnTransformer */\n",
       "  background-color: var(--sklearn-color-background);\n",
       "}\n",
       "\n",
       "/* Toggleable label */\n",
       "#sk-container-id-1 label.sk-toggleable__label {\n",
       "  cursor: pointer;\n",
       "  display: flex;\n",
       "  width: 100%;\n",
       "  margin-bottom: 0;\n",
       "  padding: 0.5em;\n",
       "  box-sizing: border-box;\n",
       "  text-align: center;\n",
       "  align-items: start;\n",
       "  justify-content: space-between;\n",
       "  gap: 0.5em;\n",
       "}\n",
       "\n",
       "#sk-container-id-1 label.sk-toggleable__label .caption {\n",
       "  font-size: 0.6rem;\n",
       "  font-weight: lighter;\n",
       "  color: var(--sklearn-color-text-muted);\n",
       "}\n",
       "\n",
       "#sk-container-id-1 label.sk-toggleable__label-arrow:before {\n",
       "  /* Arrow on the left of the label */\n",
       "  content: \"▸\";\n",
       "  float: left;\n",
       "  margin-right: 0.25em;\n",
       "  color: var(--sklearn-color-icon);\n",
       "}\n",
       "\n",
       "#sk-container-id-1 label.sk-toggleable__label-arrow:hover:before {\n",
       "  color: var(--sklearn-color-text);\n",
       "}\n",
       "\n",
       "/* Toggleable content - dropdown */\n",
       "\n",
       "#sk-container-id-1 div.sk-toggleable__content {\n",
       "  max-height: 0;\n",
       "  max-width: 0;\n",
       "  overflow: hidden;\n",
       "  text-align: left;\n",
       "  /* unfitted */\n",
       "  background-color: var(--sklearn-color-unfitted-level-0);\n",
       "}\n",
       "\n",
       "#sk-container-id-1 div.sk-toggleable__content.fitted {\n",
       "  /* fitted */\n",
       "  background-color: var(--sklearn-color-fitted-level-0);\n",
       "}\n",
       "\n",
       "#sk-container-id-1 div.sk-toggleable__content pre {\n",
       "  margin: 0.2em;\n",
       "  border-radius: 0.25em;\n",
       "  color: var(--sklearn-color-text);\n",
       "  /* unfitted */\n",
       "  background-color: var(--sklearn-color-unfitted-level-0);\n",
       "}\n",
       "\n",
       "#sk-container-id-1 div.sk-toggleable__content.fitted pre {\n",
       "  /* unfitted */\n",
       "  background-color: var(--sklearn-color-fitted-level-0);\n",
       "}\n",
       "\n",
       "#sk-container-id-1 input.sk-toggleable__control:checked~div.sk-toggleable__content {\n",
       "  /* Expand drop-down */\n",
       "  max-height: 200px;\n",
       "  max-width: 100%;\n",
       "  overflow: auto;\n",
       "}\n",
       "\n",
       "#sk-container-id-1 input.sk-toggleable__control:checked~label.sk-toggleable__label-arrow:before {\n",
       "  content: \"▾\";\n",
       "}\n",
       "\n",
       "/* Pipeline/ColumnTransformer-specific style */\n",
       "\n",
       "#sk-container-id-1 div.sk-label input.sk-toggleable__control:checked~label.sk-toggleable__label {\n",
       "  color: var(--sklearn-color-text);\n",
       "  background-color: var(--sklearn-color-unfitted-level-2);\n",
       "}\n",
       "\n",
       "#sk-container-id-1 div.sk-label.fitted input.sk-toggleable__control:checked~label.sk-toggleable__label {\n",
       "  background-color: var(--sklearn-color-fitted-level-2);\n",
       "}\n",
       "\n",
       "/* Estimator-specific style */\n",
       "\n",
       "/* Colorize estimator box */\n",
       "#sk-container-id-1 div.sk-estimator input.sk-toggleable__control:checked~label.sk-toggleable__label {\n",
       "  /* unfitted */\n",
       "  background-color: var(--sklearn-color-unfitted-level-2);\n",
       "}\n",
       "\n",
       "#sk-container-id-1 div.sk-estimator.fitted input.sk-toggleable__control:checked~label.sk-toggleable__label {\n",
       "  /* fitted */\n",
       "  background-color: var(--sklearn-color-fitted-level-2);\n",
       "}\n",
       "\n",
       "#sk-container-id-1 div.sk-label label.sk-toggleable__label,\n",
       "#sk-container-id-1 div.sk-label label {\n",
       "  /* The background is the default theme color */\n",
       "  color: var(--sklearn-color-text-on-default-background);\n",
       "}\n",
       "\n",
       "/* On hover, darken the color of the background */\n",
       "#sk-container-id-1 div.sk-label:hover label.sk-toggleable__label {\n",
       "  color: var(--sklearn-color-text);\n",
       "  background-color: var(--sklearn-color-unfitted-level-2);\n",
       "}\n",
       "\n",
       "/* Label box, darken color on hover, fitted */\n",
       "#sk-container-id-1 div.sk-label.fitted:hover label.sk-toggleable__label.fitted {\n",
       "  color: var(--sklearn-color-text);\n",
       "  background-color: var(--sklearn-color-fitted-level-2);\n",
       "}\n",
       "\n",
       "/* Estimator label */\n",
       "\n",
       "#sk-container-id-1 div.sk-label label {\n",
       "  font-family: monospace;\n",
       "  font-weight: bold;\n",
       "  display: inline-block;\n",
       "  line-height: 1.2em;\n",
       "}\n",
       "\n",
       "#sk-container-id-1 div.sk-label-container {\n",
       "  text-align: center;\n",
       "}\n",
       "\n",
       "/* Estimator-specific */\n",
       "#sk-container-id-1 div.sk-estimator {\n",
       "  font-family: monospace;\n",
       "  border: 1px dotted var(--sklearn-color-border-box);\n",
       "  border-radius: 0.25em;\n",
       "  box-sizing: border-box;\n",
       "  margin-bottom: 0.5em;\n",
       "  /* unfitted */\n",
       "  background-color: var(--sklearn-color-unfitted-level-0);\n",
       "}\n",
       "\n",
       "#sk-container-id-1 div.sk-estimator.fitted {\n",
       "  /* fitted */\n",
       "  background-color: var(--sklearn-color-fitted-level-0);\n",
       "}\n",
       "\n",
       "/* on hover */\n",
       "#sk-container-id-1 div.sk-estimator:hover {\n",
       "  /* unfitted */\n",
       "  background-color: var(--sklearn-color-unfitted-level-2);\n",
       "}\n",
       "\n",
       "#sk-container-id-1 div.sk-estimator.fitted:hover {\n",
       "  /* fitted */\n",
       "  background-color: var(--sklearn-color-fitted-level-2);\n",
       "}\n",
       "\n",
       "/* Specification for estimator info (e.g. \"i\" and \"?\") */\n",
       "\n",
       "/* Common style for \"i\" and \"?\" */\n",
       "\n",
       ".sk-estimator-doc-link,\n",
       "a:link.sk-estimator-doc-link,\n",
       "a:visited.sk-estimator-doc-link {\n",
       "  float: right;\n",
       "  font-size: smaller;\n",
       "  line-height: 1em;\n",
       "  font-family: monospace;\n",
       "  background-color: var(--sklearn-color-background);\n",
       "  border-radius: 1em;\n",
       "  height: 1em;\n",
       "  width: 1em;\n",
       "  text-decoration: none !important;\n",
       "  margin-left: 0.5em;\n",
       "  text-align: center;\n",
       "  /* unfitted */\n",
       "  border: var(--sklearn-color-unfitted-level-1) 1pt solid;\n",
       "  color: var(--sklearn-color-unfitted-level-1);\n",
       "}\n",
       "\n",
       ".sk-estimator-doc-link.fitted,\n",
       "a:link.sk-estimator-doc-link.fitted,\n",
       "a:visited.sk-estimator-doc-link.fitted {\n",
       "  /* fitted */\n",
       "  border: var(--sklearn-color-fitted-level-1) 1pt solid;\n",
       "  color: var(--sklearn-color-fitted-level-1);\n",
       "}\n",
       "\n",
       "/* On hover */\n",
       "div.sk-estimator:hover .sk-estimator-doc-link:hover,\n",
       ".sk-estimator-doc-link:hover,\n",
       "div.sk-label-container:hover .sk-estimator-doc-link:hover,\n",
       ".sk-estimator-doc-link:hover {\n",
       "  /* unfitted */\n",
       "  background-color: var(--sklearn-color-unfitted-level-3);\n",
       "  color: var(--sklearn-color-background);\n",
       "  text-decoration: none;\n",
       "}\n",
       "\n",
       "div.sk-estimator.fitted:hover .sk-estimator-doc-link.fitted:hover,\n",
       ".sk-estimator-doc-link.fitted:hover,\n",
       "div.sk-label-container:hover .sk-estimator-doc-link.fitted:hover,\n",
       ".sk-estimator-doc-link.fitted:hover {\n",
       "  /* fitted */\n",
       "  background-color: var(--sklearn-color-fitted-level-3);\n",
       "  color: var(--sklearn-color-background);\n",
       "  text-decoration: none;\n",
       "}\n",
       "\n",
       "/* Span, style for the box shown on hovering the info icon */\n",
       ".sk-estimator-doc-link span {\n",
       "  display: none;\n",
       "  z-index: 9999;\n",
       "  position: relative;\n",
       "  font-weight: normal;\n",
       "  right: .2ex;\n",
       "  padding: .5ex;\n",
       "  margin: .5ex;\n",
       "  width: min-content;\n",
       "  min-width: 20ex;\n",
       "  max-width: 50ex;\n",
       "  color: var(--sklearn-color-text);\n",
       "  box-shadow: 2pt 2pt 4pt #999;\n",
       "  /* unfitted */\n",
       "  background: var(--sklearn-color-unfitted-level-0);\n",
       "  border: .5pt solid var(--sklearn-color-unfitted-level-3);\n",
       "}\n",
       "\n",
       ".sk-estimator-doc-link.fitted span {\n",
       "  /* fitted */\n",
       "  background: var(--sklearn-color-fitted-level-0);\n",
       "  border: var(--sklearn-color-fitted-level-3);\n",
       "}\n",
       "\n",
       ".sk-estimator-doc-link:hover span {\n",
       "  display: block;\n",
       "}\n",
       "\n",
       "/* \"?\"-specific style due to the `<a>` HTML tag */\n",
       "\n",
       "#sk-container-id-1 a.estimator_doc_link {\n",
       "  float: right;\n",
       "  font-size: 1rem;\n",
       "  line-height: 1em;\n",
       "  font-family: monospace;\n",
       "  background-color: var(--sklearn-color-background);\n",
       "  border-radius: 1rem;\n",
       "  height: 1rem;\n",
       "  width: 1rem;\n",
       "  text-decoration: none;\n",
       "  /* unfitted */\n",
       "  color: var(--sklearn-color-unfitted-level-1);\n",
       "  border: var(--sklearn-color-unfitted-level-1) 1pt solid;\n",
       "}\n",
       "\n",
       "#sk-container-id-1 a.estimator_doc_link.fitted {\n",
       "  /* fitted */\n",
       "  border: var(--sklearn-color-fitted-level-1) 1pt solid;\n",
       "  color: var(--sklearn-color-fitted-level-1);\n",
       "}\n",
       "\n",
       "/* On hover */\n",
       "#sk-container-id-1 a.estimator_doc_link:hover {\n",
       "  /* unfitted */\n",
       "  background-color: var(--sklearn-color-unfitted-level-3);\n",
       "  color: var(--sklearn-color-background);\n",
       "  text-decoration: none;\n",
       "}\n",
       "\n",
       "#sk-container-id-1 a.estimator_doc_link.fitted:hover {\n",
       "  /* fitted */\n",
       "  background-color: var(--sklearn-color-fitted-level-3);\n",
       "}\n",
       "</style><div id=\"sk-container-id-1\" class=\"sk-top-container\"><div class=\"sk-text-repr-fallback\"><pre>LinearRegression()</pre><b>In a Jupyter environment, please rerun this cell to show the HTML representation or trust the notebook. <br />On GitHub, the HTML representation is unable to render, please try loading this page with nbviewer.org.</b></div><div class=\"sk-container\" hidden><div class=\"sk-item\"><div class=\"sk-estimator fitted sk-toggleable\"><input class=\"sk-toggleable__control sk-hidden--visually\" id=\"sk-estimator-id-1\" type=\"checkbox\" checked><label for=\"sk-estimator-id-1\" class=\"sk-toggleable__label fitted sk-toggleable__label-arrow\"><div><div>LinearRegression</div></div><div><a class=\"sk-estimator-doc-link fitted\" rel=\"noreferrer\" target=\"_blank\" href=\"https://scikit-learn.org/1.6/modules/generated/sklearn.linear_model.LinearRegression.html\">?<span>Documentation for LinearRegression</span></a><span class=\"sk-estimator-doc-link fitted\">i<span>Fitted</span></span></div></label><div class=\"sk-toggleable__content fitted\"><pre>LinearRegression()</pre></div> </div></div></div></div>"
      ],
      "text/plain": [
       "LinearRegression()"
      ]
     },
     "execution_count": 21,
     "metadata": {},
     "output_type": "execute_result"
    }
   ],
   "source": [
    "model=LinearRegression()\n",
    "model.fit(x_train,y_train)"
   ]
  },
  {
   "cell_type": "markdown",
   "id": "e1439ee2",
   "metadata": {
    "papermill": {
     "duration": 0.050467,
     "end_time": "2022-04-19T12:00:30.008088",
     "exception": false,
     "start_time": "2022-04-19T12:00:29.957621",
     "status": "completed"
    },
    "tags": []
   },
   "source": [
    "## **Checking Model Accuracy**"
   ]
  },
  {
   "cell_type": "code",
   "execution_count": 22,
   "id": "2f59bba7",
   "metadata": {
    "execution": {
     "iopub.execute_input": "2022-04-19T12:00:30.105646Z",
     "iopub.status.busy": "2022-04-19T12:00:30.105299Z",
     "iopub.status.idle": "2022-04-19T12:00:30.121698Z",
     "shell.execute_reply": "2022-04-19T12:00:30.120752Z"
    },
    "papermill": {
     "duration": 0.07162,
     "end_time": "2022-04-19T12:00:30.127561",
     "exception": false,
     "start_time": "2022-04-19T12:00:30.055941",
     "status": "completed"
    },
    "tags": []
   },
   "outputs": [
    {
     "name": "stdout",
     "output_type": "stream",
     "text": [
      "Model Accuracy: 89.93378607605392\n"
     ]
    }
   ],
   "source": [
    "accuracy=(model.score(x_test,y_test))*100\n",
    "print('Model Accuracy:', accuracy)"
   ]
  },
  {
   "cell_type": "code",
   "execution_count": 23,
   "id": "5dad5094",
   "metadata": {},
   "outputs": [
    {
     "data": {
      "text/plain": [
       "['model_columns.pkl']"
      ]
     },
     "execution_count": 23,
     "metadata": {},
     "output_type": "execute_result"
    }
   ],
   "source": [
    "import joblib\n",
    "\n",
    "# Save your trained model to a file named 'bike_price_model.pkl'\n",
    "joblib.dump(model, 'bike_price_model.pkl')\n",
    "\n",
    "# Save the feature columns (e.g., from your DataFrame X) to 'model_columns.pkl'\n",
    "joblib.dump(x.columns, 'model_columns.pkl')\n"
   ]
  }
 ],
 "metadata": {
  "kernelspec": {
   "display_name": ".venv",
   "language": "python",
   "name": "python3"
  },
  "language_info": {
   "codemirror_mode": {
    "name": "ipython",
    "version": 3
   },
   "file_extension": ".py",
   "mimetype": "text/x-python",
   "name": "python",
   "nbconvert_exporter": "python",
   "pygments_lexer": "ipython3",
   "version": "3.11.0"
  },
  "papermill": {
   "default_parameters": {},
   "duration": 41.832308,
   "end_time": "2022-04-19T12:00:31.350084",
   "environment_variables": {},
   "exception": null,
   "input_path": "__notebook__.ipynb",
   "output_path": "__notebook__.ipynb",
   "parameters": {},
   "start_time": "2022-04-19T11:59:49.517776",
   "version": "2.3.4"
  }
 },
 "nbformat": 4,
 "nbformat_minor": 5
}
